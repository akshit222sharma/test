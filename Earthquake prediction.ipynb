{
 "cells": [
  {
   "cell_type": "code",
   "execution_count": 2,
   "metadata": {},
   "outputs": [
    {
     "name": "stdout",
     "output_type": "stream",
     "text": [
      "Collecting catboost\n",
      "\u001b[?25l  Downloading https://files.pythonhosted.org/packages/d2/2a/a32bf5aca17438c84c61d04ee3c7dfc0decc0e16e0eaab5918de1bf936fe/catboost-0.21-cp37-none-macosx_10_6_intel.macosx_10_9_intel.macosx_10_9_x86_64.macosx_10_10_intel.macosx_10_10_x86_64.whl (10.7MB)\n",
      "\u001b[K     |████████████████████████████████| 10.7MB 12.7MB/s eta 0:00:01\n",
      "\u001b[?25hRequirement already satisfied: matplotlib in /Users/anshulsharma/anaconda3/lib/python3.7/site-packages (from catboost) (3.1.0)\n",
      "Requirement already satisfied: graphviz in /Users/anshulsharma/anaconda3/lib/python3.7/site-packages (from catboost) (0.13.2)\n",
      "Requirement already satisfied: plotly in /Users/anshulsharma/anaconda3/lib/python3.7/site-packages (from catboost) (4.5.0)\n",
      "Requirement already satisfied: numpy>=1.16.0 in /Users/anshulsharma/anaconda3/lib/python3.7/site-packages (from catboost) (1.16.4)\n",
      "Requirement already satisfied: pandas>=0.24.0 in /Users/anshulsharma/anaconda3/lib/python3.7/site-packages (from catboost) (0.24.2)\n",
      "Requirement already satisfied: six in /Users/anshulsharma/anaconda3/lib/python3.7/site-packages (from catboost) (1.12.0)\n",
      "Requirement already satisfied: scipy in /Users/anshulsharma/anaconda3/lib/python3.7/site-packages (from catboost) (1.4.1)\n",
      "Requirement already satisfied: cycler>=0.10 in /Users/anshulsharma/anaconda3/lib/python3.7/site-packages (from matplotlib->catboost) (0.10.0)\n",
      "Requirement already satisfied: kiwisolver>=1.0.1 in /Users/anshulsharma/anaconda3/lib/python3.7/site-packages (from matplotlib->catboost) (1.1.0)\n",
      "Requirement already satisfied: pyparsing!=2.0.4,!=2.1.2,!=2.1.6,>=2.0.1 in /Users/anshulsharma/anaconda3/lib/python3.7/site-packages (from matplotlib->catboost) (2.4.0)\n",
      "Requirement already satisfied: python-dateutil>=2.1 in /Users/anshulsharma/anaconda3/lib/python3.7/site-packages (from matplotlib->catboost) (2.8.0)\n",
      "Requirement already satisfied: retrying>=1.3.3 in /Users/anshulsharma/anaconda3/lib/python3.7/site-packages (from plotly->catboost) (1.3.3)\n",
      "Requirement already satisfied: pytz>=2011k in /Users/anshulsharma/anaconda3/lib/python3.7/site-packages (from pandas>=0.24.0->catboost) (2019.1)\n",
      "Requirement already satisfied: setuptools in /Users/anshulsharma/anaconda3/lib/python3.7/site-packages (from kiwisolver>=1.0.1->matplotlib->catboost) (41.0.1)\n",
      "Installing collected packages: catboost\n",
      "Successfully installed catboost-0.21\n"
     ]
    }
   ],
   "source": [
    "!pip install catboost"
   ]
  },
  {
   "cell_type": "code",
   "execution_count": 3,
   "metadata": {},
   "outputs": [],
   "source": [
    "# for preprocessing\n",
    "import pandas as pd\n",
    "\n",
    "# for math operations\n",
    "import numpy as np\n",
    "\n",
    "# for machine learning\n",
    "from catboost import CatBoostRegressor, Pool\n",
    "\n",
    "# for data scaling\n",
    "from sklearn.preprocessing import StandardScaler\n",
    "\n",
    "# for hyper  parameter optimization\n",
    "from sklearn.model_selection import GridSearchCV\n",
    "\n",
    "#support vector machine model\n",
    "from sklearn.svm import NuSVR,NuSVC \n",
    "\n",
    "# kernal ridge model\n",
    "from sklearn.kernel_ridge import KernelRidge\n",
    "\n",
    "#Data visualization\n",
    "import matplotlib.pyplot as plt"
   ]
  },
  {
   "cell_type": "code",
   "execution_count": 10,
   "metadata": {},
   "outputs": [],
   "source": [
    "def extract_data(file_name, file_path):\n",
    "    !kaggle competitions download LANL Earthquake\\ prediction -f $file_name -p $file_path --force"
   ]
  },
  {
   "cell_type": "code",
   "execution_count": 11,
   "metadata": {},
   "outputs": [
    {
     "name": "stdout",
     "output_type": "stream",
     "text": [
      "/bin/sh: kaggle: command not found\n",
      "/bin/sh: kaggle: command not found\n"
     ]
    }
   ],
   "source": [
    "# file name\n",
    "import os\n",
    "train_file_name= 'train.csv'\n",
    "test_file_name= 'test.csv'\n",
    "\n",
    "#file path\n",
    "raw_data_path= os.path.join(os.path.pardir,'data', 'raw')\n",
    "extract_data(train_file_name, raw_data_path)\n",
    "extract_data(test_file_name, raw_data_path)"
   ]
  },
  {
   "cell_type": "code",
   "execution_count": 12,
   "metadata": {},
   "outputs": [
    {
     "data": {
      "text/plain": [
       "'/Users/anshulsharma/NEW PROJECTS  10th FEB 2020'"
      ]
     },
     "execution_count": 12,
     "metadata": {},
     "output_type": "execute_result"
    }
   ],
   "source": [
    "pwd"
   ]
  },
  {
   "cell_type": "code",
   "execution_count": 40,
   "metadata": {},
   "outputs": [],
   "source": [
    "train= pd.read_csv('train.csv',nrows=60000000)"
   ]
  },
  {
   "cell_type": "code",
   "execution_count": 41,
   "metadata": {
    "scrolled": true
   },
   "outputs": [
    {
     "data": {
      "text/html": [
       "<div>\n",
       "<style scoped>\n",
       "    .dataframe tbody tr th:only-of-type {\n",
       "        vertical-align: middle;\n",
       "    }\n",
       "\n",
       "    .dataframe tbody tr th {\n",
       "        vertical-align: top;\n",
       "    }\n",
       "\n",
       "    .dataframe thead th {\n",
       "        text-align: right;\n",
       "    }\n",
       "</style>\n",
       "<table border=\"1\" class=\"dataframe\">\n",
       "  <thead>\n",
       "    <tr style=\"text-align: right;\">\n",
       "      <th></th>\n",
       "      <th>acoustic_data</th>\n",
       "      <th>time_to_failure</th>\n",
       "    </tr>\n",
       "  </thead>\n",
       "  <tbody>\n",
       "    <tr>\n",
       "      <th>0</th>\n",
       "      <td>12</td>\n",
       "      <td>1.4691</td>\n",
       "    </tr>\n",
       "    <tr>\n",
       "      <th>1</th>\n",
       "      <td>6</td>\n",
       "      <td>1.4691</td>\n",
       "    </tr>\n",
       "    <tr>\n",
       "      <th>2</th>\n",
       "      <td>8</td>\n",
       "      <td>1.4691</td>\n",
       "    </tr>\n",
       "    <tr>\n",
       "      <th>3</th>\n",
       "      <td>5</td>\n",
       "      <td>1.4691</td>\n",
       "    </tr>\n",
       "    <tr>\n",
       "      <th>4</th>\n",
       "      <td>8</td>\n",
       "      <td>1.4691</td>\n",
       "    </tr>\n",
       "    <tr>\n",
       "      <th>5</th>\n",
       "      <td>8</td>\n",
       "      <td>1.4691</td>\n",
       "    </tr>\n",
       "    <tr>\n",
       "      <th>6</th>\n",
       "      <td>9</td>\n",
       "      <td>1.4691</td>\n",
       "    </tr>\n",
       "    <tr>\n",
       "      <th>7</th>\n",
       "      <td>7</td>\n",
       "      <td>1.4691</td>\n",
       "    </tr>\n",
       "    <tr>\n",
       "      <th>8</th>\n",
       "      <td>-5</td>\n",
       "      <td>1.4691</td>\n",
       "    </tr>\n",
       "    <tr>\n",
       "      <th>9</th>\n",
       "      <td>3</td>\n",
       "      <td>1.4691</td>\n",
       "    </tr>\n",
       "  </tbody>\n",
       "</table>\n",
       "</div>"
      ],
      "text/plain": [
       "   acoustic_data  time_to_failure\n",
       "0             12           1.4691\n",
       "1              6           1.4691\n",
       "2              8           1.4691\n",
       "3              5           1.4691\n",
       "4              8           1.4691\n",
       "5              8           1.4691\n",
       "6              9           1.4691\n",
       "7              7           1.4691\n",
       "8             -5           1.4691\n",
       "9              3           1.4691"
      ]
     },
     "execution_count": 41,
     "metadata": {},
     "output_type": "execute_result"
    }
   ],
   "source": [
    "train.head(10)"
   ]
  },
  {
   "cell_type": "code",
   "execution_count": 42,
   "metadata": {},
   "outputs": [
    {
     "data": {
      "text/html": [
       "<div>\n",
       "<style scoped>\n",
       "    .dataframe tbody tr th:only-of-type {\n",
       "        vertical-align: middle;\n",
       "    }\n",
       "\n",
       "    .dataframe tbody tr th {\n",
       "        vertical-align: top;\n",
       "    }\n",
       "\n",
       "    .dataframe thead th {\n",
       "        text-align: right;\n",
       "    }\n",
       "</style>\n",
       "<table border=\"1\" class=\"dataframe\">\n",
       "  <thead>\n",
       "    <tr style=\"text-align: right;\">\n",
       "      <th></th>\n",
       "      <th>acoustic_data</th>\n",
       "      <th>time_to_failure</th>\n",
       "    </tr>\n",
       "  </thead>\n",
       "  <tbody>\n",
       "    <tr>\n",
       "      <th>count</th>\n",
       "      <td>6.000000e+07</td>\n",
       "      <td>6.000000e+07</td>\n",
       "    </tr>\n",
       "    <tr>\n",
       "      <th>mean</th>\n",
       "      <td>4.518558e+00</td>\n",
       "      <td>6.472908e+00</td>\n",
       "    </tr>\n",
       "    <tr>\n",
       "      <th>std</th>\n",
       "      <td>1.192783e+01</td>\n",
       "      <td>4.313729e+00</td>\n",
       "    </tr>\n",
       "    <tr>\n",
       "      <th>min</th>\n",
       "      <td>-4.621000e+03</td>\n",
       "      <td>6.954822e-04</td>\n",
       "    </tr>\n",
       "    <tr>\n",
       "      <th>25%</th>\n",
       "      <td>2.000000e+00</td>\n",
       "      <td>2.427696e+00</td>\n",
       "    </tr>\n",
       "    <tr>\n",
       "      <th>50%</th>\n",
       "      <td>5.000000e+00</td>\n",
       "      <td>6.323996e+00</td>\n",
       "    </tr>\n",
       "    <tr>\n",
       "      <th>75%</th>\n",
       "      <td>7.000000e+00</td>\n",
       "      <td>1.022030e+01</td>\n",
       "    </tr>\n",
       "    <tr>\n",
       "      <th>max</th>\n",
       "      <td>3.914000e+03</td>\n",
       "      <td>1.418060e+01</td>\n",
       "    </tr>\n",
       "  </tbody>\n",
       "</table>\n",
       "</div>"
      ],
      "text/plain": [
       "       acoustic_data  time_to_failure\n",
       "count   6.000000e+07     6.000000e+07\n",
       "mean    4.518558e+00     6.472908e+00\n",
       "std     1.192783e+01     4.313729e+00\n",
       "min    -4.621000e+03     6.954822e-04\n",
       "25%     2.000000e+00     2.427696e+00\n",
       "50%     5.000000e+00     6.323996e+00\n",
       "75%     7.000000e+00     1.022030e+01\n",
       "max     3.914000e+03     1.418060e+01"
      ]
     },
     "execution_count": 42,
     "metadata": {},
     "output_type": "execute_result"
    }
   ],
   "source": [
    "train.describe()"
   ]
  },
  {
   "cell_type": "markdown",
   "metadata": {},
   "source": [
    "# data visualization"
   ]
  },
  {
   "cell_type": "code",
   "execution_count": 43,
   "metadata": {},
   "outputs": [
    {
     "data": {
      "image/png": "[encoded data removed]",
      "text/plain": [
       "<Figure size 864x576 with 2 Axes>"
      ]
     },
     "metadata": {
      "needs_background": "light"
     },
     "output_type": "display_data"
    }
   ],
   "source": [
    "train_ad_sample_df= train['acoustic_data'].values[::100]\n",
    "train_ttf_sample_df= train['time_to_failure'].values[::100]\n",
    "\n",
    "# function on ploting based on both features\n",
    "def plot_acc_tff_data(train_ad_sample_df,train_ttf_sample_df):\n",
    "    fig, ax1= plt.subplots(figsize=(12,8))\n",
    "    #plt.title(title)\n",
    "    plt.plot(train_ad_sample_df, color='r')\n",
    "    ax1.set_ylabel('acoustic data',color='r')\n",
    "    plt.legend(['acoustic data'],loc=(0.01, 0.95))\n",
    "    ax2= ax1.twinx()\n",
    "    plt.plot(train_ttf_sample_df, color='b')\n",
    "    ax2.set_ylabel('time of failure', color='b')\n",
    "    plt.legend(['time to failure'], loc=(0.01,0.9))\n",
    "    plt.grid(True)\n",
    "    \n",
    "plot_acc_tff_data(train_ad_sample_df,train_ttf_sample_df)\n",
    "del train_ad_sample_df\n",
    "del train_ttf_sample_df"
   ]
  },
  {
   "cell_type": "markdown",
   "metadata": {},
   "source": [
    "# Step 4 Feature Engineering"
   ]
  },
  {
   "cell_type": "code",
   "execution_count": 50,
   "metadata": {},
   "outputs": [],
   "source": [
    "def features(X):\n",
    "    strain= []\n",
    "    strain.append(X.mean())\n",
    "    strain.append(X.std())\n",
    "    strain.append(X.min())\n",
    "    strain.append(X.kurtosis())\n",
    "    strain.append(X.skew())\n",
    "    strain.append(np.quantile(X,0.01))\n",
    "    return pd.Series(strain)\n",
    "\n"
   ]
  },
  {
   "cell_type": "code",
   "execution_count": 61,
   "metadata": {
    "scrolled": true
   },
   "outputs": [],
   "source": [
    "train = pd.read_csv('train.csv', iterator=True, chunksize=150_000,nrows=60000000, dtype={'acoustic_data': np.int16, 'time_to_failure': np.float64})\n",
    "\n",
    "X_train = pd.DataFrame()\n",
    "y_train = pd.Series()\n",
    "for df in train:\n",
    "    ch = features(df['acoustic_data'])\n",
    "    X_train = X_train.append(ch, ignore_index=True)\n",
    "    y_train = y_train.append(pd.Series(df['time_to_failure'].values[-1]))"
   ]
  },
  {
   "cell_type": "code",
   "execution_count": 62,
   "metadata": {},
   "outputs": [
    {
     "data": {
      "text/html": [
       "<div>\n",
       "<style scoped>\n",
       "    .dataframe tbody tr th:only-of-type {\n",
       "        vertical-align: middle;\n",
       "    }\n",
       "\n",
       "    .dataframe tbody tr th {\n",
       "        vertical-align: top;\n",
       "    }\n",
       "\n",
       "    .dataframe thead th {\n",
       "        text-align: right;\n",
       "    }\n",
       "</style>\n",
       "<table border=\"1\" class=\"dataframe\">\n",
       "  <thead>\n",
       "    <tr style=\"text-align: right;\">\n",
       "      <th></th>\n",
       "      <th>0</th>\n",
       "      <th>1</th>\n",
       "      <th>2</th>\n",
       "      <th>3</th>\n",
       "      <th>4</th>\n",
       "      <th>5</th>\n",
       "    </tr>\n",
       "  </thead>\n",
       "  <tbody>\n",
       "    <tr>\n",
       "      <th>count</th>\n",
       "      <td>400.000000</td>\n",
       "      <td>400.000000</td>\n",
       "      <td>400.000000</td>\n",
       "      <td>400.000000</td>\n",
       "      <td>400.000000</td>\n",
       "      <td>400.000000</td>\n",
       "    </tr>\n",
       "    <tr>\n",
       "      <th>mean</th>\n",
       "      <td>4.518558</td>\n",
       "      <td>6.340648</td>\n",
       "      <td>-142.680000</td>\n",
       "      <td>62.001412</td>\n",
       "      <td>0.103444</td>\n",
       "      <td>-10.442575</td>\n",
       "    </tr>\n",
       "    <tr>\n",
       "      <th>std</th>\n",
       "      <td>0.193287</td>\n",
       "      <td>10.113793</td>\n",
       "      <td>305.450327</td>\n",
       "      <td>59.874440</td>\n",
       "      <td>0.504035</td>\n",
       "      <td>15.757687</td>\n",
       "    </tr>\n",
       "    <tr>\n",
       "      <th>min</th>\n",
       "      <td>3.798020</td>\n",
       "      <td>3.045099</td>\n",
       "      <td>-4621.000000</td>\n",
       "      <td>2.853541</td>\n",
       "      <td>-4.091826</td>\n",
       "      <td>-239.010000</td>\n",
       "    </tr>\n",
       "    <tr>\n",
       "      <th>25%</th>\n",
       "      <td>4.388698</td>\n",
       "      <td>4.154091</td>\n",
       "      <td>-138.000000</td>\n",
       "      <td>26.010094</td>\n",
       "      <td>-0.046554</td>\n",
       "      <td>-12.000000</td>\n",
       "    </tr>\n",
       "    <tr>\n",
       "      <th>50%</th>\n",
       "      <td>4.515837</td>\n",
       "      <td>5.216863</td>\n",
       "      <td>-101.500000</td>\n",
       "      <td>41.213078</td>\n",
       "      <td>0.083229</td>\n",
       "      <td>-9.000000</td>\n",
       "    </tr>\n",
       "    <tr>\n",
       "      <th>75%</th>\n",
       "      <td>4.655390</td>\n",
       "      <td>6.394032</td>\n",
       "      <td>-75.000000</td>\n",
       "      <td>75.057348</td>\n",
       "      <td>0.224922</td>\n",
       "      <td>-5.000000</td>\n",
       "    </tr>\n",
       "    <tr>\n",
       "      <th>max</th>\n",
       "      <td>5.010620</td>\n",
       "      <td>142.976883</td>\n",
       "      <td>-27.000000</td>\n",
       "      <td>446.956420</td>\n",
       "      <td>2.335182</td>\n",
       "      <td>-2.000000</td>\n",
       "    </tr>\n",
       "  </tbody>\n",
       "</table>\n",
       "</div>"
      ],
      "text/plain": [
       "                0           1            2           3           4           5\n",
       "count  400.000000  400.000000   400.000000  400.000000  400.000000  400.000000\n",
       "mean     4.518558    6.340648  -142.680000   62.001412    0.103444  -10.442575\n",
       "std      0.193287   10.113793   305.450327   59.874440    0.504035   15.757687\n",
       "min      3.798020    3.045099 -4621.000000    2.853541   -4.091826 -239.010000\n",
       "25%      4.388698    4.154091  -138.000000   26.010094   -0.046554  -12.000000\n",
       "50%      4.515837    5.216863  -101.500000   41.213078    0.083229   -9.000000\n",
       "75%      4.655390    6.394032   -75.000000   75.057348    0.224922   -5.000000\n",
       "max      5.010620  142.976883   -27.000000  446.956420    2.335182   -2.000000"
      ]
     },
     "execution_count": 62,
     "metadata": {},
     "output_type": "execute_result"
    }
   ],
   "source": [
    "X_train.describe()"
   ]
  },
  {
   "cell_type": "markdown",
   "metadata": {},
   "source": [
    "# Implement catboost model"
   ]
  },
  {
   "cell_type": "markdown",
   "metadata": {},
   "source": [
    "## Gradient Boosting"
   ]
  },
  {
   "cell_type": "code",
   "execution_count": 63,
   "metadata": {},
   "outputs": [
    {
     "data": {
      "text/plain": [
       "{'learn': {'MAE': 0.17491837773003838}}"
      ]
     },
     "execution_count": 63,
     "metadata": {},
     "output_type": "execute_result"
    }
   ],
   "source": [
    "train_pool= Pool(X_train, y_train)\n",
    "m= CatBoostRegressor(iterations=10000, loss_function='MAE',boosting_type='Ordered')\n",
    "m.fit(X_train,y_train,silent= True)\n",
    "m.best_score_"
   ]
  },
  {
   "cell_type": "markdown",
   "metadata": {},
   "source": [
    "# SVM"
   ]
  },
  {
   "cell_type": "code",
   "execution_count": 64,
   "metadata": {},
   "outputs": [
    {
     "name": "stdout",
     "output_type": "stream",
     "text": [
      "Best CV score: -2.6034\n",
      "{'C': 2, 'gamma': 0.1}\n"
     ]
    }
   ],
   "source": [
    "from sklearn.preprocessing import StandardScaler\n",
    "from sklearn.model_selection import GridSearchCV\n",
    "from sklearn.svm import NuSVR, SVR\n",
    "\n",
    "\n",
    "scaler = StandardScaler()\n",
    "scaler.fit(X_train)\n",
    "X_train_scaled = scaler.transform(X_train)\n",
    "\n",
    "parameters = [{'gamma': [0.001, 0.005, 0.01, 0.02, 0.05, 0.1],\n",
    "               'C': [0.1, 0.2, 0.25, 0.5, 1, 1.5, 2]}]\n",
    "               #'nu': [0.75, 0.8, 0.85, 0.9, 0.95, 0.97]}]\n",
    "\n",
    "reg1 = GridSearchCV(SVR(kernel='rbf', tol=0.01), parameters, cv=5, scoring='neg_mean_absolute_error')\n",
    "reg1.fit(X_train_scaled, y_train.values.flatten())\n",
    "y_pred1 = reg1.predict(X_train_scaled)\n",
    "\n",
    "print(\"Best CV score: {:.4f}\".format(reg1.best_score_))\n",
    "print(reg1.best_params_)"
   ]
  },
  {
   "cell_type": "code",
   "execution_count": null,
   "metadata": {},
   "outputs": [],
   "source": []
  }
 ],
 "metadata": {
  "kernelspec": {
   "display_name": "Python 3",
   "language": "python",
   "name": "python3"
  },
  "language_info": {
   "codemirror_mode": {
    "name": "ipython",
    "version": 3
   },
   "file_extension": ".py",
   "mimetype": "text/x-python",
   "name": "python",
   "nbconvert_exporter": "python",
   "pygments_lexer": "ipython3",
   "version": "3.7.3"
  }
 },
 "nbformat": 4,
 "nbformat_minor": 2
}
